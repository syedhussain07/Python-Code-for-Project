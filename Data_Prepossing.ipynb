{
  "nbformat": 4,
  "nbformat_minor": 0,
  "metadata": {
    "colab": {
      "provenance": [],
      "authorship_tag": "ABX9TyPvH50LaGAk1TH86lMx5dlR",
      "include_colab_link": true
    },
    "kernelspec": {
      "name": "python3",
      "display_name": "Python 3"
    },
    "language_info": {
      "name": "python"
    }
  },
  "cells": [
    {
      "cell_type": "markdown",
      "metadata": {
        "id": "view-in-github",
        "colab_type": "text"
      },
      "source": [
        "<a href=\"https://colab.research.google.com/github/syedhussain07/Smokingskills/blob/main/Data_Prepossing.ipynb\" target=\"_parent\"><img src=\"https://colab.research.google.com/assets/colab-badge.svg\" alt=\"Open In Colab\"/></a>"
      ]
    },
    {
      "cell_type": "code",
      "execution_count": null,
      "metadata": {
        "colab": {
          "base_uri": "https://localhost:8080/"
        },
        "id": "bISVt-NoBIoi",
        "outputId": "7671a784-24f9-40b3-ad7a-0276fee80fbe"
      },
      "outputs": [
        {
          "output_type": "stream",
          "name": "stdout",
          "text": [
            "The cleaned dataset has been saved as Startup_Funding_Cleaned.csv\n"
          ]
        }
      ],
      "source": [
        "import pandas as pd\n",
        "\n",
        "# Load the dataset\n",
        "data = pd.read_csv('/startup_funding.csv')\n",
        "\n",
        "# Data Cleaning\n",
        "# Handling missing values for both numerical and categorical data\n",
        "num_cols = data.select_dtypes(include=['float64', 'int64']).columns\n",
        "cat_cols = data.select_dtypes(include=['object']).columns\n",
        "\n",
        "# Replace missing values with median for numerical columns and 'Unknown' for categorical columns\n",
        "data[num_cols] = data[num_cols].apply(lambda x: x.fillna(x.median()))\n",
        "data[cat_cols] = data[cat_cols].apply(lambda x: x.fillna('Unknown'))\n",
        "\n",
        "# Optionally remove variables that you have decided are not needed\n",
        "# Uncomment the following lines and list the columns you want to remove\n",
        "# columns_to_remove = ['column_name_1', 'column_name_2', 'column_name_3']  # replace with actual column names\n",
        "# data = data.drop(columns=columns_to_remove)\n",
        "\n",
        "# Save the cleaned dataset to a CSV file\n",
        "cleaned_file_path = 'Startup_Funding_Cleaned.csv'\n",
        "data.to_csv(cleaned_file_path, index=False)\n",
        "\n",
        "print(f\"The cleaned dataset has been saved as {cleaned_file_path}\")\n"
      ]
    },
    {
      "cell_type": "code",
      "source": [
        "import pandas as pd\n",
        "from sklearn.decomposition import PCA\n",
        "from sklearn.preprocessing import StandardScaler\n",
        "\n",
        "# Load the cleaned dataset\n",
        "data = pd.read_csv('/content/Startup_Funding_Cleaned.csv')\n",
        "\n",
        "# Convert 'Amount in USD' to numeric and handle missing values\n",
        "data['Amount in USD'] = pd.to_numeric(data['Amount in USD'].str.replace(',', ''), errors='coerce')\n",
        "data['Amount in USD'].fillna(data['Amount in USD'].median(), inplace=True)\n",
        "\n",
        "# Standardize the numerical data\n",
        "numerical_cols = data.select_dtypes(include=['float64', 'int64']).columns\n",
        "scaler = StandardScaler()\n",
        "numerical_data_scaled = scaler.fit_transform(data[numerical_cols])\n",
        "\n",
        "# Apply PCA\n",
        "pca = PCA(n_components=0.95)\n",
        "numerical_data_reduced = pca.fit_transform(numerical_data_scaled)\n",
        "\n",
        "# Create a DataFrame for the reduced numerical data\n",
        "reduced_numerical_data_df = pd.DataFrame(numerical_data_reduced, columns=[f'PCA_{i}' for i in range(numerical_data_reduced.shape[1])])\n",
        "\n",
        "# Combine the PCA components with all original columns\n",
        "final_reduced_data_df = pd.concat([data, reduced_numerical_data_df], axis=1)\n",
        "\n",
        "# Save the final reduced data to a CSV file\n",
        "final_reduced_data_df.to_csv('/content/startup_funding_reduction_with_amount.csv', index=False)\n",
        "print(final_reduced_data_df)\n",
        "# Replace 'path_to_your_file' with the actual path to your files.\n"
      ],
      "metadata": {
        "colab": {
          "base_uri": "https://localhost:8080/"
        },
        "id": "qpbn33cROqjQ",
        "outputId": "54f26ec0-c196-4665-9fc6-db51935c0d8f"
      },
      "execution_count": null,
      "outputs": [
        {
          "output_type": "stream",
          "name": "stdout",
          "text": [
            "      Sr No Date dd/mm/yyyy                  Startup Name  \\\n",
            "0         1      09/01/2020                        BYJU’S   \n",
            "1         2      13/01/2020                        Shuttl   \n",
            "2         3      09/01/2020                     Mamaearth   \n",
            "3         4      02/01/2020  https://www.wealthbucket.in/   \n",
            "4         5      02/01/2020                        Fashor   \n",
            "...     ...             ...                           ...   \n",
            "3039   3040      29/01/2015                    Printvenue   \n",
            "3040   3041      29/01/2015                      Graphene   \n",
            "3041   3042      30/01/2015                Mad Street Den   \n",
            "3042   3043      30/01/2015                     Simplotel   \n",
            "3043   3044      31/01/2015              couponmachine.in   \n",
            "\n",
            "        Industry Vertical                            SubVertical  \\\n",
            "0                  E-Tech                             E-learning   \n",
            "1          Transportation              App based shuttle service   \n",
            "2              E-commerce  Retailer of baby and toddler products   \n",
            "3                 FinTech                      Online Investment   \n",
            "4     Fashion and Apparel            Embroiled Clothes For Women   \n",
            "...                   ...                                    ...   \n",
            "3039              Unknown                                Unknown   \n",
            "3040              Unknown                                Unknown   \n",
            "3041              Unknown                                Unknown   \n",
            "3042              Unknown                                Unknown   \n",
            "3043              Unknown                                Unknown   \n",
            "\n",
            "     City  Location                     Investors Name       InvestmentnType  \\\n",
            "0         Bengaluru            Tiger Global Management  Private Equity Round   \n",
            "1           Gurgaon          Susquehanna Growth Equity              Series C   \n",
            "2         Bengaluru              Sequoia Capital India              Series B   \n",
            "3         New Delhi                     Vinod Khatumal          Pre-series A   \n",
            "4            Mumbai            Sprout Venture Partners            Seed Round   \n",
            "...             ...                                ...                   ...   \n",
            "3039        Unknown        Asia Pacific Internet Group        Private Equity   \n",
            "3040        Unknown                     KARSEMVEN Fund        Private Equity   \n",
            "3041        Unknown     Exfinity Fund, GrowX Ventures.        Private Equity   \n",
            "3042        Unknown                         MakeMyTrip        Private Equity   \n",
            "3043        Unknown  UK based Group of Angel Investors          Seed Funding   \n",
            "\n",
            "      Amount in USD                            Remarks     PCA_0     PCA_1  \n",
            "0       200000000.0                            Unknown  2.543001  0.094316  \n",
            "1         8048394.0                            Unknown  1.188264 -1.258812  \n",
            "2        18358860.0                            Unknown  1.260184 -1.185282  \n",
            "3         3000000.0                            Unknown  1.151046 -1.292811  \n",
            "4         1800000.0                            Unknown  1.141777 -1.300471  \n",
            "...             ...                                ...       ...       ...  \n",
            "3039      4500000.0                            Unknown -1.281426  1.160821  \n",
            "3040       825000.0                Govt backed VC Fund -1.308153  1.135704  \n",
            "3041      1500000.0                            Unknown -1.304196  1.141270  \n",
            "3042      1700000.0  Strategic Funding, Minority stake -1.303590  1.143486  \n",
            "3043       140000.0                            Unknown -1.315398  1.133287  \n",
            "\n",
            "[3044 rows x 12 columns]\n"
          ]
        }
      ]
    },
    {
      "cell_type": "code",
      "source": [
        "import pandas as pd\n",
        "from sklearn.decomposition import PCA\n",
        "from sklearn.preprocessing import StandardScaler\n",
        "\n",
        "# Load the cleaned dataset\n",
        "data = pd.read_csv('/content/Startup_Funding_Cleaned (1).csv')\n",
        "\n",
        "# Check if 'Amount in USD' needs handling for missing values\n",
        "if data['Amount in USD'].isnull().any():\n",
        "    # Handling missing values in 'Amount in USD', for example, filling with the median\n",
        "    data['Amount in USD'].fillna(data['Amount in USD'].median(), inplace=True)\n",
        "\n",
        "# Selecting numerical columns for PCA\n",
        "numerical_cols = data.select_dtypes(include=['float64', 'int64']).columns\n",
        "numerical_data = data[numerical_cols]\n",
        "\n",
        "# Standardizing the numerical data\n",
        "scaler = StandardScaler()\n",
        "numerical_data_scaled = scaler.fit_transform(numerical_data)\n",
        "\n",
        "# Applying PCA\n",
        "pca = PCA(n_components=0.95)\n",
        "numerical_data_reduced = pca.fit_transform(numerical_data_scaled)\n",
        "\n",
        "# Creating a DataFrame for the reduced numerical data\n",
        "reduced_data_df = pd.DataFrame(numerical_data_reduced)\n",
        "\n",
        "# Concatenating the reduced numerical data with the original categorical data\n",
        "categorical_data = data.select_dtypes(include=['object'])\n",
        "final_reduced_data_df = pd.concat([categorical_data.reset_index(drop=True), reduced_data_df], axis=1)\n",
        "\n",
        "# Saving the reduced data to a CSV file\n",
        "final_reduced_data_df.to_csv('/content/startup_funding_reduction.csv', index=False)\n"
      ],
      "metadata": {
        "id": "597dxKZu08iT"
      },
      "execution_count": null,
      "outputs": []
    },
    {
      "cell_type": "code",
      "source": [
        "import pandas as pd\n",
        "from sklearn.compose import ColumnTransformer\n",
        "from sklearn.preprocessing import StandardScaler, OneHotEncoder\n",
        "\n",
        "# Load the dataset\n",
        "data = pd.read_csv('/content/startup_funding_reduction_with_amount.csv')\n",
        "\n",
        "# Separate numerical and categorical columns\n",
        "numerical_cols = data.select_dtypes(include=['int64', 'float64']).columns\n",
        "categorical_cols = data.select_dtypes(include=['object']).columns\n",
        "\n",
        "# Create the column transformer with both transformers\n",
        "preprocessor = ColumnTransformer(\n",
        "    transformers=[\n",
        "        ('num', StandardScaler(), numerical_cols),\n",
        "        ('cat', OneHotEncoder(drop='first'), categorical_cols)\n",
        "    ])\n",
        "\n",
        "# Fit and transform the data\n",
        "data_transformed = preprocessor.fit_transform(data)\n",
        "\n",
        "# Get the column names for the one-hot encoded categorical columns\n",
        "ohe_feature_names = preprocessor.named_transformers_['cat'].get_feature_names_out(categorical_cols)\n",
        "\n",
        "# Combine the column names for numerical and one-hot encoded categorical columns\n",
        "all_feature_names = list(numerical_cols) + list(ohe_feature_names)\n",
        "\n",
        "# Create the transformed DataFrame\n",
        "data_transformed_df = pd.DataFrame(data_transformed, columns=all_feature_names)\n",
        "\n",
        "# Save the transformed data to a CSV file\n",
        "data_transformed_df.to_csv('startup_funding_transformed.csv', index=False)\n",
        "\n",
        "print(\"Transformed dataset has been saved to 'startup_funding_transformed.csv'.\")\n"
      ],
      "metadata": {
        "colab": {
          "base_uri": "https://localhost:8080/",
          "height": 417
        },
        "id": "LzPL5jzDdX4n",
        "outputId": "a475eb6f-ff29-43a2-8d23-436b8e21bca9"
      },
      "execution_count": null,
      "outputs": [
        {
          "output_type": "error",
          "ename": "ValueError",
          "evalue": "ignored",
          "traceback": [
            "\u001b[0;31m---------------------------------------------------------------------------\u001b[0m",
            "\u001b[0;31mValueError\u001b[0m                                Traceback (most recent call last)",
            "\u001b[0;32m<ipython-input-30-445571293150>\u001b[0m in \u001b[0;36m<cell line: 29>\u001b[0;34m()\u001b[0m\n\u001b[1;32m     27\u001b[0m \u001b[0;34m\u001b[0m\u001b[0m\n\u001b[1;32m     28\u001b[0m \u001b[0;31m# Create the transformed DataFrame\u001b[0m\u001b[0;34m\u001b[0m\u001b[0;34m\u001b[0m\u001b[0m\n\u001b[0;32m---> 29\u001b[0;31m \u001b[0mdata_transformed_df\u001b[0m \u001b[0;34m=\u001b[0m \u001b[0mpd\u001b[0m\u001b[0;34m.\u001b[0m\u001b[0mDataFrame\u001b[0m\u001b[0;34m(\u001b[0m\u001b[0mdata_transformed\u001b[0m\u001b[0;34m,\u001b[0m \u001b[0mcolumns\u001b[0m\u001b[0;34m=\u001b[0m\u001b[0mall_feature_names\u001b[0m\u001b[0;34m)\u001b[0m\u001b[0;34m\u001b[0m\u001b[0;34m\u001b[0m\u001b[0m\n\u001b[0m\u001b[1;32m     30\u001b[0m \u001b[0;34m\u001b[0m\u001b[0m\n\u001b[1;32m     31\u001b[0m \u001b[0;31m# Save the transformed data to a CSV file\u001b[0m\u001b[0;34m\u001b[0m\u001b[0;34m\u001b[0m\u001b[0m\n",
            "\u001b[0;32m/usr/local/lib/python3.10/dist-packages/pandas/core/frame.py\u001b[0m in \u001b[0;36m__init__\u001b[0;34m(self, data, index, columns, dtype, copy)\u001b[0m\n\u001b[1;32m    760\u001b[0m                     )\n\u001b[1;32m    761\u001b[0m                 \u001b[0;32melse\u001b[0m\u001b[0;34m:\u001b[0m\u001b[0;34m\u001b[0m\u001b[0;34m\u001b[0m\u001b[0m\n\u001b[0;32m--> 762\u001b[0;31m                     mgr = ndarray_to_mgr(\n\u001b[0m\u001b[1;32m    763\u001b[0m                         \u001b[0mdata\u001b[0m\u001b[0;34m,\u001b[0m\u001b[0;34m\u001b[0m\u001b[0;34m\u001b[0m\u001b[0m\n\u001b[1;32m    764\u001b[0m                         \u001b[0mindex\u001b[0m\u001b[0;34m,\u001b[0m\u001b[0;34m\u001b[0m\u001b[0;34m\u001b[0m\u001b[0m\n",
            "\u001b[0;32m/usr/local/lib/python3.10/dist-packages/pandas/core/internals/construction.py\u001b[0m in \u001b[0;36mndarray_to_mgr\u001b[0;34m(values, index, columns, dtype, copy, typ)\u001b[0m\n\u001b[1;32m    347\u001b[0m     )\n\u001b[1;32m    348\u001b[0m \u001b[0;34m\u001b[0m\u001b[0m\n\u001b[0;32m--> 349\u001b[0;31m     \u001b[0m_check_values_indices_shape_match\u001b[0m\u001b[0;34m(\u001b[0m\u001b[0mvalues\u001b[0m\u001b[0;34m,\u001b[0m \u001b[0mindex\u001b[0m\u001b[0;34m,\u001b[0m \u001b[0mcolumns\u001b[0m\u001b[0;34m)\u001b[0m\u001b[0;34m\u001b[0m\u001b[0;34m\u001b[0m\u001b[0m\n\u001b[0m\u001b[1;32m    350\u001b[0m \u001b[0;34m\u001b[0m\u001b[0m\n\u001b[1;32m    351\u001b[0m     \u001b[0;32mif\u001b[0m \u001b[0mtyp\u001b[0m \u001b[0;34m==\u001b[0m \u001b[0;34m\"array\"\u001b[0m\u001b[0;34m:\u001b[0m\u001b[0;34m\u001b[0m\u001b[0;34m\u001b[0m\u001b[0m\n",
            "\u001b[0;32m/usr/local/lib/python3.10/dist-packages/pandas/core/internals/construction.py\u001b[0m in \u001b[0;36m_check_values_indices_shape_match\u001b[0;34m(values, index, columns)\u001b[0m\n\u001b[1;32m    418\u001b[0m         \u001b[0mpassed\u001b[0m \u001b[0;34m=\u001b[0m \u001b[0mvalues\u001b[0m\u001b[0;34m.\u001b[0m\u001b[0mshape\u001b[0m\u001b[0;34m\u001b[0m\u001b[0;34m\u001b[0m\u001b[0m\n\u001b[1;32m    419\u001b[0m         \u001b[0mimplied\u001b[0m \u001b[0;34m=\u001b[0m \u001b[0;34m(\u001b[0m\u001b[0mlen\u001b[0m\u001b[0;34m(\u001b[0m\u001b[0mindex\u001b[0m\u001b[0;34m)\u001b[0m\u001b[0;34m,\u001b[0m \u001b[0mlen\u001b[0m\u001b[0;34m(\u001b[0m\u001b[0mcolumns\u001b[0m\u001b[0;34m)\u001b[0m\u001b[0;34m)\u001b[0m\u001b[0;34m\u001b[0m\u001b[0;34m\u001b[0m\u001b[0m\n\u001b[0;32m--> 420\u001b[0;31m         \u001b[0;32mraise\u001b[0m \u001b[0mValueError\u001b[0m\u001b[0;34m(\u001b[0m\u001b[0;34mf\"Shape of passed values is {passed}, indices imply {implied}\"\u001b[0m\u001b[0;34m)\u001b[0m\u001b[0;34m\u001b[0m\u001b[0;34m\u001b[0m\u001b[0m\n\u001b[0m\u001b[1;32m    421\u001b[0m \u001b[0;34m\u001b[0m\u001b[0m\n\u001b[1;32m    422\u001b[0m \u001b[0;34m\u001b[0m\u001b[0m\n",
            "\u001b[0;31mValueError\u001b[0m: Shape of passed values is (3044, 1), indices imply (3044, 8910)"
          ]
        }
      ]
    },
    {
      "cell_type": "code",
      "source": [
        "import pandas as pd\n",
        "import matplotlib.pyplot as plt\n",
        "\n",
        "# Load the dataset after PCA reduction\n",
        "df_pca = pd.read_csv('/content/startup_funding_reduction_with_amount.csv')\n",
        "\n",
        "# Plotting the first two principal components\n",
        "plt.figure(figsize=(10, 8))\n",
        "plt.scatter(df_pca['PCA_0'], df_pca['PCA_1'])\n",
        "plt.title('Visualization of PCA_0 and PCA_1')\n",
        "plt.xlabel('Principal Component 0 (PCA_0)')\n",
        "plt.ylabel('Principal Component 1 (PCA_1)')\n",
        "plt.grid(True)\n",
        "plt.show()\n"
      ],
      "metadata": {
        "colab": {
          "base_uri": "https://localhost:8080/",
          "height": 718
        },
        "id": "xWlAfnXbk6dj",
        "outputId": "90f0955f-487a-4ccf-d9bb-fa0236edf6fb"
      },
      "execution_count": null,
      "outputs": [
        {
          "output_type": "display_data",
          "data": {
            "text/plain": [
              "<Figure size 1000x800 with 1 Axes>"
            ],
            "image/png": "[encoded data removed]"
          },
          "metadata": {}
        }
      ]
    },
    {
      "cell_type": "code",
      "source": [
        "import pandas as pd\n",
        "from sklearn.preprocessing import StandardScaler\n",
        "\n",
        "# Load the dataset\n",
        "df = pd.read_csv('/content/startup_funding_reduction.csv')\n",
        "\n",
        "# Convert 'Amount in USD' to numeric, if it's not already\n",
        "\n",
        "# Replace NaNs in 'Amount in USD' with the median or mean, depending on your previous choice\n",
        "# Select only the numeric columns for standardization\n",
        "numeric_cols = df.select_dtypes(include=['float64', 'int64']).columns\n",
        "\n",
        "# Initialize the StandardScaler\n",
        "scaler = StandardScaler()\n",
        "\n",
        "# Standardize only the numeric columns\n",
        "df[numeric_cols] = scaler.fit_transform(df[numeric_cols])\n",
        "\n",
        "# Save the standardized dataset to a CSV file\n",
        "df.to_csv('/content/startup_funding_standardized.csv', index=False)\n",
        "\n",
        "print(\"Standardized dataset saved as 'startup_funding_standardized.csv'\")\n"
      ],
      "metadata": {
        "colab": {
          "base_uri": "https://localhost:8080/"
        },
        "id": "kMuslL96vHBT",
        "outputId": "38a6a625-300a-4c5d-f891-6b8fe2b1a595"
      },
      "execution_count": null,
      "outputs": [
        {
          "output_type": "stream",
          "name": "stdout",
          "text": [
            "Standardized dataset saved as 'startup_funding_standardized.csv'\n"
          ]
        }
      ]
    },
    {
      "cell_type": "code",
      "source": [
        "import pandas as pd\n",
        "from sklearn.preprocessing import StandardScaler\n",
        "\n",
        "# Load the dataset\n",
        "df = pd.read_csv('/content/startup_funding_reduction_with_amount.csv')\n",
        "\n",
        "# Select only the numeric columns for standardization (excluding date columns or other non-numeric types)\n",
        "numeric_cols = df.select_dtypes(include=['float64', 'int64']).columns\n",
        "\n",
        "# Initialize the StandardScaler\n",
        "scaler = StandardScaler()\n",
        "\n",
        "# Standardize only the numeric columns\n",
        "df[numeric_cols] = scaler.fit_transform(df[numeric_cols])\n",
        "\n",
        "# Save the standardized dataset to a CSV file\n",
        "df.to_csv('/content/startup_funding_standardized.csv', index=False)\n",
        "\n",
        "print(\"Standardized dataset saved as 'startup_funding_standardized.csv'\")\n"
      ],
      "metadata": {
        "colab": {
          "base_uri": "https://localhost:8080/"
        },
        "id": "lbxhp9nL9hZC",
        "outputId": "2ed82afb-0d95-4cdf-b1bd-04d4d1f676d2"
      },
      "execution_count": null,
      "outputs": [
        {
          "output_type": "stream",
          "name": "stdout",
          "text": [
            "Standardized dataset saved as 'startup_funding_standardized.csv'\n"
          ]
        }
      ]
    },
    {
      "cell_type": "code",
      "source": [
        "import pandas as pd\n",
        "from sklearn.preprocessing import StandardScaler\n",
        "\n",
        "# Load the reduced dataset\n",
        "data_reduced = pd.read_csv('/content/startup_funding_reduction_with_amount.csv')\n",
        "\n",
        "# Ensuring 'Amount in USD' is numeric\n",
        "data_reduced['Amount in USD'].fillna(data_reduced['Amount in USD'].median(), inplace=True)\n",
        "\n",
        "# Normalizing 'Amount in USD'\n",
        "scaler = StandardScaler()\n",
        "data_transformed = data_reduced.copy()\n",
        "data_transformed['Amount in USD Normalized'] = scaler.fit_transform(data_transformed[['Amount in USD']])\n",
        "\n",
        "# Discretizing 'Amount in USD'\n",
        "bin_edges = [\n",
        "    data_transformed['Amount in USD'].min(),\n",
        "    data_transformed['Amount in USD'].quantile(0.33),\n",
        "    data_transformed['Amount in USD'].quantile(0.66),\n",
        "    data_transformed['Amount in USD'].max()\n",
        "]\n",
        "bin_labels = ['Low', 'Medium', 'High']\n",
        "\n",
        "data_transformed['Amount in USD Binned'] = pd.cut(\n",
        "    data_transformed['Amount in USD'],\n",
        "    bins=bin_edges,\n",
        "    labels=bin_labels,\n",
        "    include_lowest=True\n",
        ")\n",
        "\n",
        "# Save the final processed data to a CSV file\n",
        "data_transformed.to_csv('/content/startup_funding_final_processed_file.csv', index=False)\n",
        "\n",
        "print(\"Final processed data saved as 'startup_funding_final_processed_file.csv'\")\n"
      ],
      "metadata": {
        "colab": {
          "base_uri": "https://localhost:8080/"
        },
        "id": "75d0hqV5ATuj",
        "outputId": "4ccf96a4-309f-48c5-985a-501098f2ee7a"
      },
      "execution_count": null,
      "outputs": [
        {
          "output_type": "stream",
          "name": "stdout",
          "text": [
            "Final processed data saved as 'startup_funding_final_processed_file.csv'\n"
          ]
        }
      ]
    },
    {
      "cell_type": "code",
      "source": [
        "import pandas as pd\n",
        "\n",
        "# Load the dataset\n",
        "data = pd.read_csv('/content/startup_funding_final_processed_file.csv')\n",
        "\n",
        "# Drop the 'Remarks' column if it exists\n",
        "if 'Remarks' in data.columns:\n",
        "    data.drop(columns=['Remarks'], inplace=True)\n",
        "\n",
        "# Save the modified dataset with the same name\n",
        "data.to_csv('/content/startup_funding_final_processed_file.csv', index=False)\n",
        "\n",
        "print(\"The dataset has been updated and saved with the 'Remarks' column removed.\")\n"
      ],
      "metadata": {
        "colab": {
          "base_uri": "https://localhost:8080/"
        },
        "id": "KeGaVw2iYJtG",
        "outputId": "e1444895-9f14-4911-fb19-15f7ee0411fc"
      },
      "execution_count": null,
      "outputs": [
        {
          "output_type": "stream",
          "name": "stdout",
          "text": [
            "The dataset has been updated and saved with the 'Remarks' column removed.\n"
          ]
        }
      ]
    }
  ]
}